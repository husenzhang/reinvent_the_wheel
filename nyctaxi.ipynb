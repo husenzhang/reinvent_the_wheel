{
 "cells": [
  {
   "cell_type": "markdown",
   "metadata": {
    "nbpresent": {
     "id": "c9ed6756-02bc-4ab2-8e2e-c9d2b19e8b29"
    },
    "slideshow": {
     "slide_type": "slide"
    }
   },
   "source": [
    "<h2><center>NYC green taxi data analysis</center></h2>\n",
    "<h4><center>Husen Zhang</center></h4>\n",
    "\n",
    "#### README\n",
    "The goal is to explore how New Yorkers use the 'Green Taxi'. The entire analysis is contained in this jupyter notebook. Library versions are printed early on. To produce html from the command line: jupyter nbconvert --execute --ExecutePreprocessor.timeout=150 nycTaxi_HusenZhang.ipynb"
   ]
  },
  {
   "cell_type": "code",
   "execution_count": 1,
   "metadata": {
    "collapsed": false,
    "nbpresent": {
     "id": "3089b7c1-afc7-45af-bc30-5620160803be"
    },
    "slideshow": {
     "slide_type": "slide"
    }
   },
   "outputs": [],
   "source": [
    "import sys\n",
    "from urllib.request import urlopen\n",
    "import numpy as np\n",
    "import pandas as pd\n",
    "import matplotlib\n",
    "import matplotlib.pyplot as plt\n",
    "%matplotlib inline\n",
    "\n",
    "import sklearn\n",
    "from sklearn.model_selection import train_test_split\n",
    "from sklearn.ensemble import RandomForestRegressor\n",
    "from sklearn.metrics import mean_squared_error, r2_score, mean_absolute_error"
   ]
  },
  {
   "cell_type": "markdown",
   "metadata": {
    "nbpresent": {
     "id": "0f1ca58c-64a0-4236-b91a-b8cbd789a1a1"
    },
    "slideshow": {
     "slide_type": "slide"
    }
   },
   "source": [
    "Download the data and explore rows and columns."
   ]
  },
  {
   "cell_type": "code",
   "execution_count": 3,
   "metadata": {
    "collapsed": false,
    "nbpresent": {
     "id": "7acd2d65-8413-4b76-92a5-4cd9c10f7972"
    },
    "slideshow": {
     "slide_type": "slide"
    }
   },
   "outputs": [],
   "source": [
    "url='https://s3.amazonaws.com/nyc-tlc/trip+data/green_tripdata_2015-09.csv'\n",
    "df = pd.read_csv(urlopen(url))"
   ]
  },
  {
   "cell_type": "code",
   "execution_count": 5,
   "metadata": {
    "collapsed": false,
    "nbpresent": {
     "id": "aa5ceb65-e9bf-4442-8851-411b9cab4434"
    },
    "slideshow": {
     "slide_type": "slide"
    }
   },
   "outputs": [
    {
     "name": "stdout",
     "output_type": "stream",
     "text": [
      "n_rows = 1494926, n_columns = 21\n"
     ]
    },
    {
     "data": {
      "text/html": [
       "<div>\n",
       "<table border=\"1\" class=\"dataframe\">\n",
       "  <thead>\n",
       "    <tr style=\"text-align: right;\">\n",
       "      <th></th>\n",
       "      <th>VendorID</th>\n",
       "      <th>lpep_pickup_datetime</th>\n",
       "      <th>Lpep_dropoff_datetime</th>\n",
       "      <th>Store_and_fwd_flag</th>\n",
       "      <th>RateCodeID</th>\n",
       "      <th>Pickup_longitude</th>\n",
       "      <th>Pickup_latitude</th>\n",
       "      <th>Dropoff_longitude</th>\n",
       "      <th>Dropoff_latitude</th>\n",
       "      <th>Passenger_count</th>\n",
       "      <th>...</th>\n",
       "      <th>Fare_amount</th>\n",
       "      <th>Extra</th>\n",
       "      <th>MTA_tax</th>\n",
       "      <th>Tip_amount</th>\n",
       "      <th>Tolls_amount</th>\n",
       "      <th>Ehail_fee</th>\n",
       "      <th>improvement_surcharge</th>\n",
       "      <th>Total_amount</th>\n",
       "      <th>Payment_type</th>\n",
       "      <th>Trip_type</th>\n",
       "    </tr>\n",
       "  </thead>\n",
       "  <tbody>\n",
       "    <tr>\n",
       "      <th>0</th>\n",
       "      <td>2</td>\n",
       "      <td>2015-09-01 00:02:34</td>\n",
       "      <td>2015-09-01 00:02:38</td>\n",
       "      <td>N</td>\n",
       "      <td>5</td>\n",
       "      <td>-73.979485</td>\n",
       "      <td>40.684956</td>\n",
       "      <td>-73.979431</td>\n",
       "      <td>40.685020</td>\n",
       "      <td>1</td>\n",
       "      <td>...</td>\n",
       "      <td>7.8</td>\n",
       "      <td>0.0</td>\n",
       "      <td>0.0</td>\n",
       "      <td>1.95</td>\n",
       "      <td>0.0</td>\n",
       "      <td>NaN</td>\n",
       "      <td>0.0</td>\n",
       "      <td>9.75</td>\n",
       "      <td>1</td>\n",
       "      <td>2.0</td>\n",
       "    </tr>\n",
       "    <tr>\n",
       "      <th>1</th>\n",
       "      <td>2</td>\n",
       "      <td>2015-09-01 00:04:20</td>\n",
       "      <td>2015-09-01 00:04:24</td>\n",
       "      <td>N</td>\n",
       "      <td>5</td>\n",
       "      <td>-74.010796</td>\n",
       "      <td>40.912216</td>\n",
       "      <td>-74.010780</td>\n",
       "      <td>40.912212</td>\n",
       "      <td>1</td>\n",
       "      <td>...</td>\n",
       "      <td>45.0</td>\n",
       "      <td>0.0</td>\n",
       "      <td>0.0</td>\n",
       "      <td>0.00</td>\n",
       "      <td>0.0</td>\n",
       "      <td>NaN</td>\n",
       "      <td>0.0</td>\n",
       "      <td>45.00</td>\n",
       "      <td>1</td>\n",
       "      <td>2.0</td>\n",
       "    </tr>\n",
       "  </tbody>\n",
       "</table>\n",
       "<p>2 rows × 21 columns</p>\n",
       "</div>"
      ],
      "text/plain": [
       "   VendorID lpep_pickup_datetime Lpep_dropoff_datetime Store_and_fwd_flag  \\\n",
       "0         2  2015-09-01 00:02:34   2015-09-01 00:02:38                  N   \n",
       "1         2  2015-09-01 00:04:20   2015-09-01 00:04:24                  N   \n",
       "\n",
       "   RateCodeID  Pickup_longitude  Pickup_latitude  Dropoff_longitude  \\\n",
       "0           5        -73.979485        40.684956         -73.979431   \n",
       "1           5        -74.010796        40.912216         -74.010780   \n",
       "\n",
       "   Dropoff_latitude  Passenger_count     ...      Fare_amount  Extra  MTA_tax  \\\n",
       "0         40.685020                1     ...              7.8    0.0      0.0   \n",
       "1         40.912212                1     ...             45.0    0.0      0.0   \n",
       "\n",
       "   Tip_amount  Tolls_amount  Ehail_fee  improvement_surcharge  Total_amount  \\\n",
       "0        1.95           0.0        NaN                    0.0          9.75   \n",
       "1        0.00           0.0        NaN                    0.0         45.00   \n",
       "\n",
       "   Payment_type  Trip_type   \n",
       "0             1         2.0  \n",
       "1             1         2.0  \n",
       "\n",
       "[2 rows x 21 columns]"
      ]
     },
     "execution_count": 5,
     "metadata": {},
     "output_type": "execute_result"
    }
   ],
   "source": [
    "print('n_rows = %d, n_columns = %d' %(df.shape))\n",
    "df.head(2)"
   ]
  },
  {
   "cell_type": "markdown",
   "metadata": {
    "nbpresent": {
     "id": "a2d6416a-cf8d-4e59-8a79-c1ef6e154c17"
    },
    "slideshow": {
     "slide_type": "slide"
    }
   },
   "source": [
    "Trip distance median (indicated by the red line) is 2 miles. Skewed distribution towards short trips."
   ]
  },
  {
   "cell_type": "code",
   "execution_count": 15,
   "metadata": {
    "collapsed": false,
    "slideshow": {
     "slide_type": "slide"
    }
   },
   "outputs": [
    {
     "data": {
      "image/png": "[encoded data removed]",
      "text/plain": [
       "<matplotlib.figure.Figure at 0x119de74a8>"
      ]
     },
     "metadata": {},
     "output_type": "display_data"
    }
   ],
   "source": [
    "fig = plt.figure(figsize=(8, 4))\n",
    "ax1 = fig.add_subplot(1, 2, 1)\n",
    "ax2 = fig.add_subplot(1, 2, 2)\n",
    "\n",
    "ax1.hist(df['Trip_distance'].values, bins=500)\n",
    "ax1.set_ylabel('Number of Trips')\n",
    "ax1.set_xlabel('Miles')\n",
    "ax1.set_xlim([0,50])\n",
    "\n",
    "ax2.boxplot(df['Trip_distance'].values)\n",
    "ax2.set_yscale('log')\n",
    "ax2.set_ylabel('Miles')\n",
    "ax2.get_xaxis().set_ticks([])\n",
    "ax2.annotate('2 Miles', xy=(1,2), xytext=(1.1, 2))\n",
    "\n",
    "fig.tight_layout()"
   ]
  },
  {
   "cell_type": "markdown",
   "metadata": {
    "collapsed": true,
    "nbpresent": {
     "id": "50cb31ee-4679-4c9c-b083-98c5da7ca808"
    }
   },
   "source": [
    "We know the pickup_hour and dropoff_hour of each trip.  In order to get hour of day of these trips, we need to deal with the dateime type. Once that's done, we generate a pivot table.  The peak distance seems to be at 5am, where Wall-street folks get to work.Trips to airports is coded in the field, RateIDCode. Please see below for more details.I also generate a figure using the same data. One hypothesis for the peak distance early morning and late evening: Wall Street folks get to work around 5am, get home around 10pm. If I had more time, I would investigate the dropoff locations at 5-6am with a distance of 4 miles and above to see whether my hypothesis is true.  I will need to something like geocoding to do this kind of analysis."
   ]
  },
  {
   "cell_type": "code",
   "execution_count": 16,
   "metadata": {
    "collapsed": true,
    "slideshow": {
     "slide_type": "skip"
    }
   },
   "outputs": [],
   "source": [
    "df['Pickup_hour'] = df.set_index(\n",
    "        pd.to_datetime(df.lpep_pickup_datetime)).index.hour\n",
    "df['Dropoff_hour'] = df.set_index(\n",
    "        pd.to_datetime(df.Lpep_dropoff_datetime)).index.hour\n",
    "\n",
    "Table1 = df.pivot_table(index='Pickup_hour', \n",
    "                        values='Trip_distance',\n",
    "                        aggfunc='mean').round(2)\n",
    "#print 'Table1. Trip_distance By Pickup_hour\\n','-'*36+'\\n', Table1"
   ]
  },
  {
   "cell_type": "code",
   "execution_count": 17,
   "metadata": {
    "collapsed": false,
    "nbpresent": {
     "id": "003dd75b-0ab0-4267-9309-b79ea93b00df"
    },
    "slideshow": {
     "slide_type": "slide"
    }
   },
   "outputs": [
    {
     "data": {
      "image/png": "[encoded data removed]",
      "text/plain": [
       "<matplotlib.figure.Figure at 0x1196afc18>"
      ]
     },
     "metadata": {},
     "output_type": "display_data"
    }
   ],
   "source": [
    "def plot_pickup():\n",
    "    p = Table1.plot()\n",
    "    p.set_ylabel('Miles')\n",
    "    p.set_xlabel('Hours after midnight')\n",
    "    p.set_title('Trip distance by Pickup_hour')\n",
    "plot_pickup()"
   ]
  },
  {
   "cell_type": "markdown",
   "metadata": {
    "nbpresent": {
     "id": "5e144b58-141f-489e-8658-675d33673d4b"
    }
   },
   "source": [
    "RateIDCode for JFK and Newark airports are 2 and 3, respectively. We see trips to Newark charges more, despite lower fare.  This disparity could be due to tolls at the George Washington Bridge. "
   ]
  },
  {
   "cell_type": "code",
   "execution_count": 28,
   "metadata": {
    "collapsed": false,
    "nbpresent": {
     "id": "4c71bd42-a738-42c1-a5c9-56abebc53c7b"
    },
    "slideshow": {
     "slide_type": "slide"
    }
   },
   "outputs": [
    {
     "name": "stdout",
     "output_type": "stream",
     "text": [
      "        RateCode  Trips  average Fare  average Total\n",
      "JFK            2   4435         49.02          56.53\n",
      "Newark         3   1117         48.80          59.90\n"
     ]
    },
    {
     "data": {
      "image/png": "[encoded data removed]",
      "text/plain": [
       "<matplotlib.figure.Figure at 0x11830cc18>"
      ]
     },
     "metadata": {},
     "output_type": "display_data"
    }
   ],
   "source": [
    "def twoAirports():\n",
    "    jfk    = df[df.RateCodeID == 2].shape[0]\n",
    "    newark = df[df.RateCodeID == 3].shape[0]\n",
    "    avgf   = df.Fare_amount.groupby([df.RateCodeID]).mean()\n",
    "    avgt   = df.Total_amount.groupby([df.RateCodeID]).mean()\n",
    "    airports = pd.DataFrame({'Trips': (jfk, newark), \n",
    "                        'average Fare': np.round((avgf[2], avgf[3]),2),\n",
    "                       'average Total': np.round((avgt[2], avgt[3]),2), \n",
    "                       'RateCode':(2, 3)}, \n",
    "                        index=['JFK', 'Newark'])\n",
    "    print (airports)\n",
    "    airports[['average Fare', 'average Total']].plot.barh()\n",
    "twoAirports()"
   ]
  },
  {
   "cell_type": "markdown",
   "metadata": {
    "nbpresent": {
     "id": "c1ac6956-b31f-4317-afe1-bf11ab5fdd2f"
    },
    "slideshow": {
     "slide_type": "slide"
    }
   },
   "source": [
    "Build a predictive model for tip as a percentage of the total fare.\n",
    "Cash tips are not recorded \n",
    "  - using only credit card transactions. \n",
    "Creating a data cleaning helper function, preproc.\n",
    "  - drop datetime columns but keep Pickup_hour/Dropoff_hour\n",
    "  - drop the Ehail_fee column which contains only NAs.\n",
    "Then I follow the good practice of model building, namely, training the model on the train set followed by testing it on the test set."
   ]
  },
  {
   "cell_type": "code",
   "execution_count": 29,
   "metadata": {
    "collapsed": true
   },
   "outputs": [],
   "source": [
    "def preproc(data):\n",
    "    \"\"\"Return a copy of clean data with Tip_percent.\"\"\"\n",
    "    data = data[data.Payment_type == 1] # credit card only.\n",
    "    data = data.drop(\n",
    "           ['Payment_type','lpep_pickup_datetime','Dropoff_latitude',\n",
    "            'Lpep_dropoff_datetime', 'Ehail_fee','Pickup_latitude',\n",
    "            'Pickup_longitude','Dropoff_longitude'], axis=1)\n",
    "    \n",
    "    # Deal with NAs and strings; float to integers\n",
    "    data.fillna(method = 'ffill', inplace=True)\n",
    "    data.Store_and_fwd_flag = (\n",
    "               data.Store_and_fwd_flag == 'Y').astype(int)\n",
    "    data['Trip_type '] = data['Trip_type '].astype('int')\n",
    "            \n",
    "    # flip negative values caused by data entry errors.    \n",
    "    fields=['Fare_amount','Extra','MTA_tax','Tip_amount','Total_amount']\n",
    "    for field in fields:\n",
    "        data[field] = data[field].abs()\n",
    "    \n",
    "    data['Tip_percent'] = data.Tip_amount/data.Total_amount\n",
    "    data.Tip_percent = data.Tip_percent.fillna(data.Tip_percent.mean())\n",
    "    data.drop('Tip_amount', axis=1, inplace=True)\n",
    "    return data\n",
    "\n",
    "data = preproc(df)"
   ]
  },
  {
   "cell_type": "code",
   "execution_count": 33,
   "metadata": {
    "collapsed": false
   },
   "outputs": [
    {
     "data": {
      "text/plain": [
       "15"
      ]
     },
     "execution_count": 33,
     "metadata": {},
     "output_type": "execute_result"
    }
   ],
   "source": [
    "data.shape[1]"
   ]
  },
  {
   "cell_type": "code",
   "execution_count": 36,
   "metadata": {
    "collapsed": false
   },
   "outputs": [
    {
     "data": {
      "text/plain": [
       "array([[<matplotlib.axes._subplots.AxesSubplot object at 0x11f84bbe0>,\n",
       "        <matplotlib.axes._subplots.AxesSubplot object at 0x11fde8240>,\n",
       "        <matplotlib.axes._subplots.AxesSubplot object at 0x12014f940>,\n",
       "        <matplotlib.axes._subplots.AxesSubplot object at 0x12019c7b8>],\n",
       "       [<matplotlib.axes._subplots.AxesSubplot object at 0x120206ac8>,\n",
       "        <matplotlib.axes._subplots.AxesSubplot object at 0x120206b00>,\n",
       "        <matplotlib.axes._subplots.AxesSubplot object at 0x1202ca550>,\n",
       "        <matplotlib.axes._subplots.AxesSubplot object at 0x120325358>],\n",
       "       [<matplotlib.axes._subplots.AxesSubplot object at 0x1204e84a8>,\n",
       "        <matplotlib.axes._subplots.AxesSubplot object at 0x1206c6198>,\n",
       "        <matplotlib.axes._subplots.AxesSubplot object at 0x1207eb5c0>,\n",
       "        <matplotlib.axes._subplots.AxesSubplot object at 0x12083af98>],\n",
       "       [<matplotlib.axes._subplots.AxesSubplot object at 0x1208b15c0>,\n",
       "        <matplotlib.axes._subplots.AxesSubplot object at 0x1208cdbe0>,\n",
       "        <matplotlib.axes._subplots.AxesSubplot object at 0x1209390b8>,\n",
       "        <matplotlib.axes._subplots.AxesSubplot object at 0x1209a19b0>]], dtype=object)"
      ]
     },
     "execution_count": 36,
     "metadata": {},
     "output_type": "execute_result"
    },
    {
     "data": {
      "image/png": "[encoded data removed]",
      "text/plain": [
       "<matplotlib.figure.Figure at 0x11faff908>"
      ]
     },
     "metadata": {},
     "output_type": "display_data"
    }
   ],
   "source": [
    "data.hist(figsize=(16,12))"
   ]
  },
  {
   "cell_type": "code",
   "execution_count": 49,
   "metadata": {
    "collapsed": false
   },
   "outputs": [
    {
     "name": "stdout",
     "output_type": "stream",
     "text": [
      "RandomForestRegressor(bootstrap=True, criterion='mse', max_depth=None,\n",
      "           max_features='auto', max_leaf_nodes=None,\n",
      "           min_impurity_split=1e-07, min_samples_leaf=1,\n",
      "           min_samples_split=2, min_weight_fraction_leaf=0.0,\n",
      "           n_estimators=10, n_jobs=2, oob_score=False, random_state=None,\n",
      "           verbose=0, warm_start=False)\n",
      "Mean absolute error: 0.000497996895789 \tR2: 0.9958\n"
     ]
    },
    {
     "data": {
      "image/png": "[encoded data removed]",
      "text/plain": [
       "<matplotlib.figure.Figure at 0x121c0b128>"
      ]
     },
     "metadata": {},
     "output_type": "display_data"
    }
   ],
   "source": [
    "def rfm():    \n",
    "    target = 'Tip_percent'\n",
    "    features = [i for i in data.columns if i != target]\n",
    "    X_train, X_test, y_train, y_test = train_test_split(\n",
    "             data[features], data[target], test_size=0.3, random_state=0 )\n",
    "\n",
    "    rf = RandomForestRegressor(n_estimators=10, n_jobs=2)\n",
    "    rf.fit(X_train, y_train)\n",
    "    print (rf)\n",
    "\n",
    "    y_pred = rf.predict(X_test)\n",
    "    mae = mean_absolute_error(y_test, rf.predict(X_test))\n",
    "    rsqr = format(r2_score(y_test, y_pred), '0.4f')\n",
    "    print ('Mean absolute error:', mae,'\\tR2:',rsqr)\n",
    "\n",
    "    fig = plt.figure(figsize=(8,4))\n",
    "    ax1 = fig.add_subplot(1,2,1)\n",
    "    ax2 = fig.add_subplot(1,2,2)\n",
    "\n",
    "    ax1.scatter(y_test, y_pred)\n",
    "    ax1.set_xlabel('y_test')\n",
    "    ax1.set_ylabel('y_predicted')\n",
    "    importance_data = sorted(zip(X_test.columns, rf.feature_importances_),\n",
    "                         key=lambda x: x[1], reverse=True)\n",
    "    xlab, ylab = zip(*importance_data)\n",
    "    xloc = range(len(X_test.columns))\n",
    "    ax2.bar(xloc, ylab)\n",
    "    ax2.set_xticks(xloc, xlab)\n",
    "    ax2.set_title('Random Forest Feature Importance')\n",
    "\n",
    "rfm()"
   ]
  },
  {
   "cell_type": "markdown",
   "metadata": {
    "nbpresent": {
     "id": "b75922ca-74ec-40dc-83ab-22493d95a6a2"
    }
   },
   "source": [
    "Now test the model with the test data. I assess accuracies with the mean absolute error (MAE).  The MAE is intuitive - a value of 0.01 corresponds to 1 percent difference. I also report r-square, which indicates how much variation is explained by the model."
   ]
  },
  {
   "cell_type": "markdown",
   "metadata": {
    "nbpresent": {
     "id": "e6bdac5b-6ef9-4e3a-af8d-1662779efffd"
    }
   },
   "source": [
    "### Question 5\n",
    "Option A: Distributions\n",
    "Build a derived variable representing the average speed over the course of a trip.\n",
    "Can you perform a test to determine if the average trip speeds are materially the same in all weeks of September? If you decide they are not the same, can you form a hypothesis regarding why they differ?\n",
    "Can you build up a hypothesis of average trip speed as a function of time of day?\n",
    "### Answers:\n",
    "First let's create a helpfer function, get_speed_week, to compute average speed. As a byproduct we also get the week information. Then I proceed to do two exploratory plots: average speed versus week, and average speed versus pickup_hour. \n",
    "\n",
    "The average speed does not seem to vary a whole lot from week-to-week. In contrast, the average speed is highest at 5-6am in the morning, suggesting least amount of traffice congestion."
   ]
  },
  {
   "cell_type": "code",
   "execution_count": 15,
   "metadata": {
    "collapsed": true,
    "nbpresent": {
     "id": "84d9673d-ff47-4eb1-8e84-9da79409a68f"
    }
   },
   "outputs": [],
   "source": [
    "def get_speed_week(dat):\n",
    "    end = pd.to_datetime(dat.Lpep_dropoff_datetime)\n",
    "    begin = pd.to_datetime(dat.lpep_pickup_datetime)\n",
    "    duration = (end - begin).astype('timedelta64[s]')\n",
    "    speed = (dat.Trip_distance/duration)*3600\n",
    "    week = dat.set_index(pd.to_datetime(\n",
    "            dat.lpep_pickup_datetime)).index.week\n",
    "    return speed, week"
   ]
  },
  {
   "cell_type": "code",
   "execution_count": null,
   "metadata": {
    "collapsed": true,
    "nbpresent": {
     "id": "b70948e0-cbad-49cb-a299-028efdc0fc80"
    }
   },
   "outputs": [],
   "source": [
    "df['Speed'], df['Week'] = get_speed_week(df)"
   ]
  },
  {
   "cell_type": "markdown",
   "metadata": {
    "nbpresent": {
     "id": "fd929d4f-36c8-4e5a-bbf0-42c10b24636e"
    }
   },
   "source": [
    "Further cleanup to remove inf and nan:"
   ]
  },
  {
   "cell_type": "code",
   "execution_count": 16,
   "metadata": {
    "collapsed": false,
    "nbpresent": {
     "id": "1c495574-3a5e-4336-a60d-723f09380885"
    }
   },
   "outputs": [],
   "source": [
    "df1 = df[['Speed', 'Week', 'Pickup_hour']].replace(\n",
    "    [np.inf, -np.inf], np.nan)\n",
    "\n",
    "df1.dropna(inplace=True)"
   ]
  },
  {
   "cell_type": "markdown",
   "metadata": {
    "nbpresent": {
     "id": "43475595-ec45-49f5-93ee-fb7176a58804"
    }
   },
   "source": [
    "Now let's do a boxplot with Speed versus Week. No obvious trend is observed."
   ]
  },
  {
   "cell_type": "code",
   "execution_count": 46,
   "metadata": {
    "collapsed": false,
    "nbpresent": {
     "id": "db4a6d5f-6d5b-4057-a986-3d9a1c574343"
    }
   },
   "outputs": [
    {
     "data": {
      "text/plain": [
       "<matplotlib.axes._subplots.AxesSubplot at 0x11fbaea10>"
      ]
     },
     "execution_count": 46,
     "metadata": {},
     "output_type": "execute_result"
    },
    {
     "data": {
      "image/png": "[encoded data removed]",
      "text/plain": [
       "<matplotlib.figure.Figure at 0x11f784450>"
      ]
     },
     "metadata": {},
     "output_type": "display_data"
    }
   ],
   "source": [
    "df1[df1.Speed < 60].boxplot('Speed', by='Week')"
   ]
  },
  {
   "cell_type": "markdown",
   "metadata": {
    "nbpresent": {
     "id": "4bbb8016-7f4a-469e-a858-bcea04dff39a"
    }
   },
   "source": [
    "In the interest of time, I'll treat 'Week' as a categorical variable and do a simple linear regression of Speed ~ Week. The p-value is 0.0626, which is greater than 0.05.  We can't reject the null hypothesis, which states no difference in speed between weeks. "
   ]
  },
  {
   "cell_type": "code",
   "execution_count": 50,
   "metadata": {
    "collapsed": true
   },
   "outputs": [],
   "source": [
    "import statsmodels.api as sm\n",
    "from statsmodels.formula.api import ols"
   ]
  },
  {
   "cell_type": "code",
   "execution_count": 50,
   "metadata": {
    "collapsed": false,
    "nbpresent": {
     "id": "eb96d61c-78dd-41da-8958-b12657b5b7e9"
    }
   },
   "outputs": [
    {
     "name": "stdout",
     "output_type": "stream",
     "text": [
      "                sum_sq         df         F    PR(>F)\n",
      "Week      4.166030e+05        4.0  2.234507  0.062668\n",
      "Residual  6.962817e+10  1493841.0       NaN       NaN\n"
     ]
    }
   ],
   "source": [
    "df1.Week = df1.Week.astype('category')\n",
    "mod = ols('Speed ~ Week', data=df1).fit()\n",
    "aov_table = sm.stats.anova_lm(mod, typ=2)\n",
    "print aov_table"
   ]
  },
  {
   "cell_type": "markdown",
   "metadata": {
    "nbpresent": {
     "id": "ae41b441-0b02-4e7b-9484-3f7d2246f305"
    }
   },
   "source": [
    "Now take a look at speed versus hour-of-the-day."
   ]
  },
  {
   "cell_type": "code",
   "execution_count": 25,
   "metadata": {
    "collapsed": false,
    "nbpresent": {
     "id": "c50baba8-a010-4fb0-8119-e54895056856"
    }
   },
   "outputs": [
    {
     "data": {
      "text/plain": [
       "<matplotlib.text.Text at 0x1179ff210>"
      ]
     },
     "execution_count": 25,
     "metadata": {},
     "output_type": "execute_result"
    },
    {
     "data": {
      "image/png": "[encoded data removed]",
      "text/plain": [
       "<matplotlib.figure.Figure at 0x115e18510>"
      ]
     },
     "metadata": {},
     "output_type": "display_data"
    }
   ],
   "source": [
    "plt.plot( df1.pivot_table('Speed', 'Pickup_hour'))\n",
    "plt.title('Average speed by time of day')\n",
    "plt.xlabel('Hours after midnight')\n",
    "plt.ylabel('mils per hour')"
   ]
  },
  {
   "cell_type": "markdown",
   "metadata": {
    "nbpresent": {
     "id": "08b0c9c3-d13f-4eab-9b18-2ad4f55fdd0c"
    }
   },
   "source": [
    "Obviously the average speed is highest at 5-6am in the morning! Again, in the interest of time let's treat the Pickup_hour as a categorical variable and perform linear regression:"
   ]
  },
  {
   "cell_type": "code",
   "execution_count": 51,
   "metadata": {
    "collapsed": false,
    "nbpresent": {
     "id": "265a88e4-f5f5-49c4-9938-b73d8cd370d5"
    }
   },
   "outputs": [
    {
     "name": "stdout",
     "output_type": "stream",
     "text": [
      "                   sum_sq         df         F        PR(>F)\n",
      "Pickup_hour  7.191228e+06       23.0  6.708592  1.995128e-21\n",
      "Residual     6.962140e+10  1493822.0       NaN           NaN\n"
     ]
    }
   ],
   "source": [
    "df1.Pickup_hour = df1.Pickup_hour.astype('category')\n",
    "mod = ols('Speed ~ Pickup_hour', data=df1).fit()\n",
    "aov_table = sm.stats.anova_lm(mod, typ=2)\n",
    "print aov_table"
   ]
  },
  {
   "cell_type": "markdown",
   "metadata": {
    "nbpresent": {
     "id": "c8081f9a-0a46-4865-b59c-7239783b6fa8"
    }
   },
   "source": [
    "Now the p-value is extremely small (1.99e-21), suggesting that the average speed does vary according to the time of the day with 5-6am being the highest speed. The highest speed at 5am suggests a relatively smooth traffic in the early morning.  So, if you do need to travel, travel early in the morning.\n",
    "\n",
    "##### This concludes the entire analysis."
   ]
  }
 ],
 "metadata": {
  "celltoolbar": "Slideshow",
  "kernelspec": {
   "display_name": "Python 3",
   "language": "python",
   "name": "python3"
  },
  "language_info": {
   "codemirror_mode": {
    "name": "ipython",
    "version": 3
   },
   "file_extension": ".py",
   "mimetype": "text/x-python",
   "name": "python",
   "nbconvert_exporter": "python",
   "pygments_lexer": "ipython3",
   "version": "3.6.0"
  },
  "nbpresent": {
   "slides": {
    "04f0e65b-0859-4623-9070-00b031c0ee02": {
     "id": "04f0e65b-0859-4623-9070-00b031c0ee02",
     "prev": null,
     "regions": {
      "4a72d5f4-c42b-4d88-bce5-7ec1c2acc893": {
       "attrs": {
        "height": 0.8,
        "width": 0.8,
        "x": 0.1,
        "y": 0.1
       },
       "content": {
        "cell": "c9ed6756-02bc-4ab2-8e2e-c9d2b19e8b29",
        "part": "whole"
       },
       "id": "4a72d5f4-c42b-4d88-bce5-7ec1c2acc893"
      }
     }
    },
    "26fa0566-b204-4298-92af-42c19ab165c3": {
     "id": "26fa0566-b204-4298-92af-42c19ab165c3",
     "prev": "04f0e65b-0859-4623-9070-00b031c0ee02",
     "regions": {
      "6e7d3c3e-a2d1-40d5-9236-26df22206926": {
       "attrs": {
        "height": 0.8,
        "width": 0.8,
        "x": 0.1,
        "y": 0.1
       },
       "content": {
        "cell": "3089b7c1-afc7-45af-bc30-5620160803be",
        "part": "whole"
       },
       "id": "6e7d3c3e-a2d1-40d5-9236-26df22206926"
      }
     }
    },
    "884dc77c-f931-4d47-9ea0-fc34f01afdb4": {
     "id": "884dc77c-f931-4d47-9ea0-fc34f01afdb4",
     "prev": "26fa0566-b204-4298-92af-42c19ab165c3",
     "regions": {
      "f344ae41-6058-4d9b-9a54-177e9817bdc0": {
       "attrs": {
        "height": 0.8,
        "width": 0.8,
        "x": 0.1,
        "y": 0.1
       },
       "content": {
        "cell": "0f1ca58c-64a0-4236-b91a-b8cbd789a1a1",
        "part": "whole"
       },
       "id": "f344ae41-6058-4d9b-9a54-177e9817bdc0"
      }
     }
    },
    "ff642d7c-f1a7-49a0-aa57-84f0406b3e5e": {
     "id": "ff642d7c-f1a7-49a0-aa57-84f0406b3e5e",
     "prev": "884dc77c-f931-4d47-9ea0-fc34f01afdb4",
     "regions": {
      "f6f60f51-c687-4c43-acf0-a1e6782b7a29": {
       "attrs": {
        "height": 0.8,
        "width": 0.8,
        "x": 0.1,
        "y": 0.1
       },
       "content": {
        "cell": "7acd2d65-8413-4b76-92a5-4cd9c10f7972",
        "part": "whole"
       },
       "id": "f6f60f51-c687-4c43-acf0-a1e6782b7a29"
      }
     }
    }
   },
   "themes": {}
  }
 },
 "nbformat": 4,
 "nbformat_minor": 2
}
