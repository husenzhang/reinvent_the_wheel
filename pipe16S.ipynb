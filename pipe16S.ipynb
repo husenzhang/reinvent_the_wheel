{
 "cells": [
  {
   "cell_type": "markdown",
   "metadata": {
    "nbpresent": {
     "id": "73f65017-b3db-4796-a698-5b9d8cc193e1"
    },
    "slideshow": {
     "slide_type": "slide"
    }
   },
   "source": [
    "#### OTU as a function of fastq_maxee, min_size, fastq_trunclen"
   ]
  },
  {
   "cell_type": "code",
   "execution_count": 2,
   "metadata": {
    "collapsed": true,
    "nbpresent": {
     "id": "beadad2f-064b-4d10-862b-50c0e583668f"
    }
   },
   "outputs": [],
   "source": [
    "import os, subprocess, IPython.display, re\n",
    "import matplotlib.pyplot as plt\n",
    "import numpy as np\n",
    "%matplotlib inline\n",
    "fastq_dir = '~/fastqs/*_R1_*.fastq'"
   ]
  },
  {
   "cell_type": "code",
   "execution_count": 17,
   "metadata": {
    "collapsed": false,
    "nbpresent": {
     "id": "84914a92-537d-45a5-8402-2d24922ae839"
    }
   },
   "outputs": [],
   "source": [
    "def usearch_func(fastqin, maxee, trunclen, minsize):\n",
    "    \"\"\"return usearch outputs as a string\"\"\"\n",
    "    commands = ['usearch -fastq_mergepairs %s -relabel @ -fastqout merged.fastq' %fastqin,    \n",
    "                \n",
    "                'usearch -fastq_filter merged.fastq \\\n",
    "                -fastq_maxee %f \\\n",
    "                -fastq_trunclen %d \\\n",
    "                -fastaout seqs.fna -fastqout seqs.fastq' %(maxee, trunclen), \n",
    "                \n",
    "                'fastqc seqs.fastq --extract --quiet',\n",
    "                'usearch -cluster_otus seqs.derep.fna -sizein -minsize %d \\\n",
    "                -otus rep_set.fa -relabel OTU_' %minsize ]\n",
    "    outputs = ''\n",
    "    for command in commands:\n",
    "        out = subprocess.check_output(command, shell=True, stderr=subprocess.STDOUT)\n",
    "        outputs = outputs + out + '\\n'\n",
    "\n",
    "    return outputs"
   ]
  },
  {
   "cell_type": "code",
   "execution_count": 38,
   "metadata": {
    "collapsed": false
   },
   "outputs": [],
   "source": [
    "def parseUsearch(usearch_out_string):\n",
    "    search_list = [r'\\d+\\s+FASTQ', r'\\d+\\s+Converted', r'\\d\\d\\sOTUs']\n",
    "    res_list = []\n",
    "    for pattern in search_list:\n",
    "        match = re.search(pattern, usearch_out_string)\n",
    "        matched_string = match.group()\n",
    "        num, name = matched_string.split()\n",
    "        num = int(num)\n",
    "        res_list.append((num, name))\n",
    "    return res_list"
   ]
  },
  {
   "cell_type": "code",
   "execution_count": 39,
   "metadata": {
    "collapsed": false
   },
   "outputs": [
    {
     "data": {
      "text/plain": [
       "[(28472, 'FASTQ'), (24036, 'Converted'), (21, 'OTUs')]"
      ]
     },
     "execution_count": 39,
     "metadata": {},
     "output_type": "execute_result"
    }
   ],
   "source": [
    "parseUsearch(usearch_func(fastq_dir, 1.0, 250, 5))"
   ]
  },
  {
   "cell_type": "code",
   "execution_count": 27,
   "metadata": {
    "collapsed": false,
    "nbpresent": {
     "id": "f3d7455a-239d-4115-8cf4-c99ec80bc787"
    },
    "slideshow": {
     "slide_type": "-"
    }
   },
   "outputs": [
    {
     "name": "stdout",
     "output_type": "stream",
     "text": [
      "[('all', 543970), ('highQ', 492168), ('OTUs', 21)]\n"
     ]
    },
    {
     "data": {
      "text/plain": [
       "<matplotlib.text.Annotation at 0x116829e90>"
      ]
     },
     "execution_count": 27,
     "metadata": {},
     "output_type": "execute_result"
    },
    {
     "data": {
      "image/png": "[encoded data removed]",
      "text/plain": [
       "<matplotlib.figure.Figure at 0x116586390>"
      ]
     },
     "metadata": {},
     "output_type": "display_data"
    }
   ],
   "source": [
    "# --------------------------------------------------------------\n",
    "categories, y = zip(*d)\n",
    "x = range(len(categories))\n",
    "plt.bar(x, y, align='center', log=True)\n",
    "plt.xticks(x, categories)\n",
    "plt.ylabel('Counts')\n",
    "plt.annotate('21', xy=(2, 100), fontsize = 30)"
   ]
  },
  {
   "cell_type": "markdown",
   "metadata": {
    "nbpresent": {
     "id": "f44ec9dc-4f8d-4b8e-ab61-5615414bd7f4"
    },
    "slideshow": {
     "slide_type": "fragment"
    }
   },
   "source": [
    "## The OTU Table Ready for downstream analyis"
   ]
  },
  {
   "cell_type": "code",
   "execution_count": 12,
   "metadata": {
    "collapsed": false,
    "nbpresent": {
     "id": "2c4ae20c-7338-4b94-b626-80be10bffab7"
    }
   },
   "outputs": [
    {
     "name": "stdout",
     "output_type": "stream",
     "text": [
      "#OTU ID\tMockS11\tMockS12\tMockS24\tMockS48\n",
      "OTU_18\t11049.0\t243.0\t262.0\t67.0\n",
      "OTU_4\t31059.0\t820.0\t367.0\t287.0\n",
      "OTU_8\t28153.0\t754.0\t410.0\t185.0\n",
      "OTU_3\t31780.0\t723.0\t569.0\t306.0\n",
      "OTU_12\t20871.0\t765.0\t702.0\t114.0\n",
      "OTU_6\t29167.0\t768.0\t701.0\t199.0\n",
      "OTU_16\t18145.0\t388.0\t319.0\t169.0\n",
      "OTU_2\t35353.0\t1179.0\t554.0\t318.0\n",
      "OTU_17\t15219.0\t449.0\t258.0\t63.0\n",
      "OTU_11\t27104.0\t657.0\t306.0\t223.0\n",
      "OTU_5\t31137.0\t881.0\t471.0\t196.0\n",
      "OTU_10\t26936.0\t673.0\t526.0\t274.0\n",
      "OTU_13\t29772.0\t897.0\t515.0\t261.0\n",
      "OTU_1\t59765.0\t1422.0\t1140.0\t461.0\n",
      "OTU_14\t19208.0\t555.0\t507.0\t181.0\n",
      "OTU_15\t18473.0\t577.0\t259.0\t77.0\n",
      "OTU_9\t26053.0\t877.0\t507.0\t166.0\n",
      "OTU_7\t29974.0\t849.0\t349.0\t204.0\n",
      "OTU_19\t144.0\t12.0\t33.0\t22.0\n",
      "OTU_20\t28.0\t0.0\t0.0\t0.0\n",
      "OTU_21\t0.0\t0.0\t20.0\t0.0\n",
      "\n"
     ]
    }
   ],
   "source": [
    "otuTable = 'usearch -usearch_global merged.fastq -db rep_set.fa -id 0.97 -strand plus -biomout otu.json'\n",
    "subprocess.call(otuTable, shell=True)\n",
    "printBiom = 'biom head -i otu.json -n 21 | sed 1d'\n",
    "print subprocess.check_output(printBiom, shell=True)"
   ]
  }
 ],
 "metadata": {
  "celltoolbar": "Slideshow",
  "kernelspec": {
   "display_name": "Python 2",
   "language": "python",
   "name": "python2"
  },
  "language_info": {
   "codemirror_mode": {
    "name": "ipython",
    "version": 2
   },
   "file_extension": ".py",
   "mimetype": "text/x-python",
   "name": "python",
   "nbconvert_exporter": "python",
   "pygments_lexer": "ipython2",
   "version": "2.7.12"
  },
  "nbpresent": {
   "slides": {
    "0d56e508-f04c-4e49-ad05-a91a16003119": {
     "id": "0d56e508-f04c-4e49-ad05-a91a16003119",
     "prev": "5b6fb041-f80d-4e01-b89f-fff6eaabb0a2",
     "regions": {
      "11083b5b-5daa-4dd6-84ea-a48f093410f3": {
       "attrs": {
        "height": 0.4,
        "width": 0.8,
        "x": 0.1,
        "y": 0.5
       },
       "content": {
        "cell": "2c4ae20c-7338-4b94-b626-80be10bffab7",
        "part": "whole"
       },
       "id": "11083b5b-5daa-4dd6-84ea-a48f093410f3"
      },
      "4ecc47b7-3d1b-4968-b17c-6bd52175067c": {
       "attrs": {
        "height": 0.4,
        "width": 0.8,
        "x": 0.1,
        "y": 0.5
       },
       "content": {
        "cell": "f44ec9dc-4f8d-4b8e-ab61-5615414bd7f4",
        "part": "whole"
       },
       "id": "4ecc47b7-3d1b-4968-b17c-6bd52175067c"
      },
      "9dcbe76b-ec9c-4c36-9a48-3abbbab88235": {
       "attrs": {
        "height": 0.8,
        "width": 0.8,
        "x": 0.1,
        "y": 0.1
       },
       "content": {
        "cell": "9b45b6b3-3464-49a0-aa8a-b9f5ccaff67c",
        "part": "whole"
       },
       "id": "9dcbe76b-ec9c-4c36-9a48-3abbbab88235"
      },
      "abfbd2d4-2fa1-4e1b-9171-4fee92e85dcd": {
       "attrs": {
        "height": 0.4,
        "width": 0.8,
        "x": 0.1,
        "y": 0.5
       },
       "content": {
        "cell": "f3d7455a-239d-4115-8cf4-c99ec80bc787",
        "part": "whole"
       },
       "id": "abfbd2d4-2fa1-4e1b-9171-4fee92e85dcd"
      },
      "e6b0521d-47cf-4867-8cdb-1b893f27998d": {
       "attrs": {
        "height": 0.4,
        "width": 0.8,
        "x": 0.1,
        "y": 0.5
       },
       "content": {
        "cell": "bea54e9a-a705-47b7-a81c-3355bf5db2ea",
        "part": "whole"
       },
       "id": "e6b0521d-47cf-4867-8cdb-1b893f27998d"
      }
     }
    },
    "5b6fb041-f80d-4e01-b89f-fff6eaabb0a2": {
     "id": "5b6fb041-f80d-4e01-b89f-fff6eaabb0a2",
     "prev": "a3fa132b-15b1-47fa-b80e-07b919b4a219",
     "regions": {
      "2e09e4d5-8c6c-4b25-ae3c-807610e0f547": {
       "attrs": {
        "height": 0.4,
        "width": 0.8,
        "x": 0.1,
        "y": 0.5
       },
       "content": {
        "cell": "a06e6053-81aa-43e6-9d75-71c56c34386c",
        "part": "whole"
       },
       "id": "2e09e4d5-8c6c-4b25-ae3c-807610e0f547"
      },
      "d97cb783-df8e-4e50-9d0c-3adfa73b524a": {
       "attrs": {
        "height": 0.8,
        "width": 0.8,
        "x": 0.1,
        "y": 0.1
       },
       "content": {
        "cell": "9f775993-c175-47f0-8c74-bf702ec05959",
        "part": "whole"
       },
       "id": "d97cb783-df8e-4e50-9d0c-3adfa73b524a"
      }
     }
    },
    "654687b1-8600-43d9-b134-0b61a1abc680": {
     "id": "654687b1-8600-43d9-b134-0b61a1abc680",
     "prev": "f8e8580d-54e2-4e71-938f-0c0016421b26",
     "regions": {
      "396e3356-8c9a-465a-a4a9-4996c5749356": {
       "attrs": {
        "height": 0.4,
        "width": 0.8,
        "x": 0.1,
        "y": 0.5
       },
       "content": {
        "cell": "8fe870da-ad77-4631-a443-253109bcf1f5",
        "part": "whole"
       },
       "id": "396e3356-8c9a-465a-a4a9-4996c5749356"
      },
      "83f9be3f-4df9-424b-99af-f74d573d1177": {
       "attrs": {
        "height": 0.8,
        "width": 0.8,
        "x": 0.1,
        "y": 0.1
       },
       "content": {
        "cell": "be96ac0b-c702-4ddb-8e97-a214c856e37f",
        "part": "whole"
       },
       "id": "83f9be3f-4df9-424b-99af-f74d573d1177"
      },
      "f787f6e2-dc7a-4b29-8ed7-282a2a04423e": {
       "attrs": {
        "height": 0.4,
        "width": 0.8,
        "x": 0.1,
        "y": 0.5
       },
       "content": {
        "cell": "84914a92-537d-45a5-8402-2d24922ae839",
        "part": "whole"
       },
       "id": "f787f6e2-dc7a-4b29-8ed7-282a2a04423e"
      }
     }
    },
    "a3fa132b-15b1-47fa-b80e-07b919b4a219": {
     "id": "a3fa132b-15b1-47fa-b80e-07b919b4a219",
     "prev": "654687b1-8600-43d9-b134-0b61a1abc680",
     "regions": {
      "182ba6af-fe54-4bc3-bb39-5740666e2553": {
       "attrs": {
        "height": 0.4,
        "width": 0.8,
        "x": 0.1,
        "y": 0.5
       },
       "content": {
        "cell": "35036923-3ed4-478b-964a-f79da2ddb17b",
        "part": "whole"
       },
       "id": "182ba6af-fe54-4bc3-bb39-5740666e2553"
      },
      "26f36dec-df93-41bc-b910-25592e75baa2": {
       "attrs": {
        "height": 0.4,
        "width": 0.8,
        "x": 0.1,
        "y": 0.5
       },
       "content": {
        "cell": "cbb34a11-7b16-4e9d-8a18-6ca558d88be7",
        "part": "whole"
       },
       "id": "26f36dec-df93-41bc-b910-25592e75baa2"
      },
      "47ebd4fe-6bb8-42be-8587-3ccdf290caa1": {
       "attrs": {
        "height": 0.8,
        "width": 0.8,
        "x": 0.1,
        "y": 0.1
       },
       "content": {
        "cell": "ec1d77b4-e3b4-4b6a-b47c-899f622eede6",
        "part": "whole"
       },
       "id": "47ebd4fe-6bb8-42be-8587-3ccdf290caa1"
      },
      "99a00f0c-ade6-4613-8f04-5e57fb311d59": {
       "attrs": {
        "height": 0.4,
        "width": 0.8,
        "x": 0.1,
        "y": 0.5
       },
       "content": {
        "cell": "26821eae-4e14-46b7-9a60-d23940c9697a",
        "part": "whole"
       },
       "id": "99a00f0c-ade6-4613-8f04-5e57fb311d59"
      }
     }
    },
    "b3ccab98-4133-47c5-a72e-048311ad9c48": {
     "id": "b3ccab98-4133-47c5-a72e-048311ad9c48",
     "prev": null,
     "regions": {
      "2bff127d-4192-4926-a50b-75a053e50381": {
       "attrs": {
        "height": 0.4,
        "width": 0.8,
        "x": 0.1,
        "y": 0.5
       },
       "content": {
        "cell": "c21652dc-8404-457a-bd87-19ffaca708fe",
        "part": "whole"
       },
       "id": "2bff127d-4192-4926-a50b-75a053e50381"
      },
      "34f86b4f-d40e-4360-b7ce-f9549d0e4f19": {
       "attrs": {
        "height": 0.8,
        "width": 0.8,
        "x": 0.1,
        "y": 0.1
       },
       "content": {
        "cell": "73f65017-b3db-4796-a698-5b9d8cc193e1",
        "part": "whole"
       },
       "id": "34f86b4f-d40e-4360-b7ce-f9549d0e4f19"
      },
      "f137828d-fe5e-4b47-88cc-9e9e4e05ab42": {
       "attrs": {
        "height": 0.4,
        "width": 0.8,
        "x": 0.1,
        "y": 0.5
       },
       "content": {
        "cell": "beadad2f-064b-4d10-862b-50c0e583668f",
        "part": "whole"
       },
       "id": "f137828d-fe5e-4b47-88cc-9e9e4e05ab42"
      }
     }
    },
    "f8e8580d-54e2-4e71-938f-0c0016421b26": {
     "id": "f8e8580d-54e2-4e71-938f-0c0016421b26",
     "prev": "b3ccab98-4133-47c5-a72e-048311ad9c48",
     "regions": {
      "27f8f7fc-9c92-414f-ba79-2e6ecf16b7ac": {
       "attrs": {
        "height": 0.8,
        "width": 0.8,
        "x": 0.1,
        "y": 0.1
       },
       "content": {
        "cell": "3e914d54-eefc-4541-99ac-17ec23afd32a",
        "part": "whole"
       },
       "id": "27f8f7fc-9c92-414f-ba79-2e6ecf16b7ac"
      },
      "b872bca1-5c37-419f-9a48-1775176ecadb": {
       "attrs": {
        "height": 0.4,
        "width": 0.8,
        "x": 0.1,
        "y": 0.5
       },
       "content": {
        "cell": "f8807470-2568-4cd3-9c2c-ee408a9aba6d",
        "part": "whole"
       },
       "id": "b872bca1-5c37-419f-9a48-1775176ecadb"
      }
     }
    }
   },
   "themes": {}
  }
 },
 "nbformat": 4,
 "nbformat_minor": 2
}
